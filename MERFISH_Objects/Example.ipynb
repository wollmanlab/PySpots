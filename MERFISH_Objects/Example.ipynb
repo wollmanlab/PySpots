{
 "cells": [
  {
   "cell_type": "code",
   "execution_count": 2,
   "metadata": {},
   "outputs": [],
   "source": [
    "from MERFISH_Objects.Analyze import *\n",
    "\"\"\" Making the daemon paths\"\"\"\n",
    "\"\"\" be careful you dont delete other peoples files\"\"\"\n",
    "cword_config = 'seqfish_config_Inflammation_Mono' #CHANGE\n",
    "metadata_path = '/hybedata/Images/Maeve/Macrophage/SL085_DIC_failed_no_tracking_2021Apr22/' #CHANGE\n",
    "merfish_config = importlib.import_module(cword_config)\n",
    "daemon_path = merfish_config.parameters['daemon_path']\n",
    "utilities_path = merfish_config.parameters['utilities_path']\n",
    "fishdata_path = os.path.join(metadata_path,merfish_config.parameters['fishdata'])\n",
    "import shutil\n",
    "if not os.path.exists(daemon_path):\n",
    "    os.mkdir(daemon_path)\n",
    "else:\n",
    "    shutil.rmtree(daemon_path)\n",
    "    os.mkdir(daemon_path)\n",
    "if not os.path.exists(utilities_path):\n",
    "    os.mkdir(utilities_path)\n",
    "else:\n",
    "    shutil.rmtree(utilities_path)\n",
    "    os.mkdir(utilities_path) \n",
    "dtypes = ['dataset','position','hybe','registration','stack','image','deconvolution','segmentation','classification']\n",
    "for dtype in dtypes:\n",
    "    dtype_daemon_path = os.path.join(daemon_path,dtype)\n",
    "    if not os.path.exists(dtype_daemon_path):\n",
    "        os.mkdir(dtype_daemon_path)\n",
    "if not os.path.exists(fishdata_path):\n",
    "    os.mkdir(fishdata_path)"
   ]
  },
  {
   "cell_type": "code",
   "execution_count": null,
   "metadata": {},
   "outputs": [],
   "source": [
    "\"\"\" Run this one\"\"\"\n",
    "conda activate pyspots-gpu\n",
    "python -W ignore /home/zach/PythonRepos/PySpots/MERFISH_Objects/Analyze.py /hybedata/Images/Robert/TBI_v2/tbi_m3_slide1_ventral_2020Jan17/ seqfish_config_tbi_v4"
   ]
  },
  {
   "cell_type": "code",
   "execution_count": null,
   "metadata": {},
   "outputs": [],
   "source": [
    "conda activate pyspots-gpu\n",
    "python -W ignore /home/zach/PythonRepos/PySpots/MERFISH_Objects/Daemon_wrapper.py dataset -i 60 -n 1"
   ]
  },
  {
   "cell_type": "code",
   "execution_count": null,
   "metadata": {},
   "outputs": [],
   "source": [
    "conda activate pyspots-gpu\n",
    "python -W ignore /home/zach/PythonRepos/PySpots/MERFISH_Objects/Daemon_wrapper.py position -i 60 -n 5"
   ]
  },
  {
   "cell_type": "code",
   "execution_count": null,
   "metadata": {},
   "outputs": [],
   "source": [
    "conda activate pyspots-gpu\n",
    "python -W ignore /home/zach/PythonRepos/PySpots/MERFISH_Objects/Daemon_wrapper.py hybe -i 60 -n 1"
   ]
  },
  {
   "cell_type": "code",
   "execution_count": null,
   "metadata": {},
   "outputs": [],
   "source": [
    "conda activate pyspots-gpu\n",
    "python -W ignore /home/zach/PythonRepos/PySpots/MERFISH_Objects/Daemon_wrapper.py registration -i 60 -n 8"
   ]
  },
  {
   "cell_type": "code",
   "execution_count": null,
   "metadata": {},
   "outputs": [],
   "source": [
    "conda activate pyspots-gpu\n",
    "python -W ignore /home/zach/PythonRepos/PySpots/MERFISH_Objects/Daemon_wrapper.py stack -i 60 -n 5"
   ]
  },
  {
   "cell_type": "code",
   "execution_count": null,
   "metadata": {},
   "outputs": [],
   "source": [
    "conda activate pyspots-gpu\n",
    "python -W ignore /home/zach/PythonRepos/PySpots/MERFISH_Objects/Daemon_wrapper.py image -i 60 -n 10"
   ]
  },
  {
   "cell_type": "code",
   "execution_count": null,
   "metadata": {},
   "outputs": [],
   "source": [
    "conda activate pyspots-gpu\n",
    "python -W ignore /home/zach/PythonRepos/PySpots/MERFISH_Objects/Progress.py /hybedata/Images/Zach/ZebraFinch/B1_2020Jul08/ seqfish_config_zebrafinch"
   ]
  },
  {
   "cell_type": "code",
   "execution_count": 1,
   "metadata": {
    "collapsed": true,
    "jupyter": {
     "outputs_hidden": true
    }
   },
   "outputs": [
    {
     "name": "stderr",
     "output_type": "stream",
     "text": [
      "/home/zach/miniconda3/envs/pyspots-gpu/lib/python3.6/site-packages/tensorflow/python/framework/dtypes.py:516: FutureWarning: Passing (type, 1) or '1type' as a synonym of type is deprecated; in a future version of numpy, it will be understood as (type, (1,)) / '(1,)type'.\n",
      "  _np_qint8 = np.dtype([(\"qint8\", np.int8, 1)])\n",
      "/home/zach/miniconda3/envs/pyspots-gpu/lib/python3.6/site-packages/tensorflow/python/framework/dtypes.py:517: FutureWarning: Passing (type, 1) or '1type' as a synonym of type is deprecated; in a future version of numpy, it will be understood as (type, (1,)) / '(1,)type'.\n",
      "  _np_quint8 = np.dtype([(\"quint8\", np.uint8, 1)])\n",
      "/home/zach/miniconda3/envs/pyspots-gpu/lib/python3.6/site-packages/tensorflow/python/framework/dtypes.py:518: FutureWarning: Passing (type, 1) or '1type' as a synonym of type is deprecated; in a future version of numpy, it will be understood as (type, (1,)) / '(1,)type'.\n",
      "  _np_qint16 = np.dtype([(\"qint16\", np.int16, 1)])\n",
      "/home/zach/miniconda3/envs/pyspots-gpu/lib/python3.6/site-packages/tensorflow/python/framework/dtypes.py:519: FutureWarning: Passing (type, 1) or '1type' as a synonym of type is deprecated; in a future version of numpy, it will be understood as (type, (1,)) / '(1,)type'.\n",
      "  _np_quint16 = np.dtype([(\"quint16\", np.uint16, 1)])\n",
      "/home/zach/miniconda3/envs/pyspots-gpu/lib/python3.6/site-packages/tensorflow/python/framework/dtypes.py:520: FutureWarning: Passing (type, 1) or '1type' as a synonym of type is deprecated; in a future version of numpy, it will be understood as (type, (1,)) / '(1,)type'.\n",
      "  _np_qint32 = np.dtype([(\"qint32\", np.int32, 1)])\n",
      "/home/zach/miniconda3/envs/pyspots-gpu/lib/python3.6/site-packages/tensorflow/python/framework/dtypes.py:525: FutureWarning: Passing (type, 1) or '1type' as a synonym of type is deprecated; in a future version of numpy, it will be understood as (type, (1,)) / '(1,)type'.\n",
      "  np_resource = np.dtype([(\"resource\", np.ubyte, 1)])\n",
      "/home/zach/miniconda3/envs/pyspots-gpu/lib/python3.6/site-packages/tensorboard/compat/tensorflow_stub/dtypes.py:541: FutureWarning: Passing (type, 1) or '1type' as a synonym of type is deprecated; in a future version of numpy, it will be understood as (type, (1,)) / '(1,)type'.\n",
      "  _np_qint8 = np.dtype([(\"qint8\", np.int8, 1)])\n",
      "/home/zach/miniconda3/envs/pyspots-gpu/lib/python3.6/site-packages/tensorboard/compat/tensorflow_stub/dtypes.py:542: FutureWarning: Passing (type, 1) or '1type' as a synonym of type is deprecated; in a future version of numpy, it will be understood as (type, (1,)) / '(1,)type'.\n",
      "  _np_quint8 = np.dtype([(\"quint8\", np.uint8, 1)])\n",
      "/home/zach/miniconda3/envs/pyspots-gpu/lib/python3.6/site-packages/tensorboard/compat/tensorflow_stub/dtypes.py:543: FutureWarning: Passing (type, 1) or '1type' as a synonym of type is deprecated; in a future version of numpy, it will be understood as (type, (1,)) / '(1,)type'.\n",
      "  _np_qint16 = np.dtype([(\"qint16\", np.int16, 1)])\n",
      "/home/zach/miniconda3/envs/pyspots-gpu/lib/python3.6/site-packages/tensorboard/compat/tensorflow_stub/dtypes.py:544: FutureWarning: Passing (type, 1) or '1type' as a synonym of type is deprecated; in a future version of numpy, it will be understood as (type, (1,)) / '(1,)type'.\n",
      "  _np_quint16 = np.dtype([(\"quint16\", np.uint16, 1)])\n",
      "/home/zach/miniconda3/envs/pyspots-gpu/lib/python3.6/site-packages/tensorboard/compat/tensorflow_stub/dtypes.py:545: FutureWarning: Passing (type, 1) or '1type' as a synonym of type is deprecated; in a future version of numpy, it will be understood as (type, (1,)) / '(1,)type'.\n",
      "  _np_qint32 = np.dtype([(\"qint32\", np.int32, 1)])\n",
      "/home/zach/miniconda3/envs/pyspots-gpu/lib/python3.6/site-packages/tensorboard/compat/tensorflow_stub/dtypes.py:550: FutureWarning: Passing (type, 1) or '1type' as a synonym of type is deprecated; in a future version of numpy, it will be understood as (type, (1,)) / '(1,)type'.\n",
      "  np_resource = np.dtype([(\"resource\", np.ubyte, 1)])\n"
     ]
    }
   ],
   "source": [
    "from MERFISH_Objects.Analyze import *"
   ]
  },
  {
   "cell_type": "code",
   "execution_count": null,
   "metadata": {},
   "outputs": [
    {
     "name": "stdout",
     "output_type": "stream",
     "text": [
      "09:26:29 dataset(0:0:1)pos(31:4:256)hybe(633:36:1950)reg(2558:29:32)stk(1267:0:3835)img(61404:0:0)decon(1267:0:2345)"
     ]
    }
   ],
   "source": [
    "def check_status(fishdata_path):\n",
    "    out = {}\n",
    "    dtypes = ['dataset','pos','hybe','reg','stk','img','decon']\n",
    "    outcomes = ['passed','failed','started']\n",
    "    for dtype in dtypes:\n",
    "        out[dtype] = {}\n",
    "        for outcome in outcomes:\n",
    "            out[dtype][outcome] = []\n",
    "    for fname in os.listdir(fishdata_path):\n",
    "        if 'flag' in fname:\n",
    "            try:\n",
    "                t = pd.read_csv(os.path.join(fishdata_path,fname)).columns[0]\n",
    "                dtype = find_dtype(fname)\n",
    "            except:\n",
    "                continue\n",
    "            if 'Started' in t:\n",
    "                out[dtype]['started'].append(fname)\n",
    "            elif 'Passed' in t:\n",
    "                out[dtype]['passed'].append(fname)\n",
    "            elif 'Failed' in t:\n",
    "                out[dtype]['failed'].append(fname)\n",
    "                \n",
    "    master_string = []\n",
    "    for dtype in dtypes:\n",
    "        string = dtype+'('\n",
    "        for outcome in outcomes:\n",
    "            string = string+str(len(out[dtype][outcome]))+':'\n",
    "        string = string[:-1]+')'\n",
    "        master_string.append(string)\n",
    "    p = ''.join(i for i in master_string)\n",
    "    return p\n",
    "metadata_path = '/hybedata/Images/Zach/ZebraFinch/B1_2020Jul08/'\n",
    "fname = 'B1_2020Jul08.pkl'\n",
    "dataset_daemon_path = '/scratch/daemon/dataset/'\n",
    "while True:#not os.path.exists(os.path.join(dataset_daemon_path,'output',fname)):\n",
    "    p = check_status(os.path.join(metadata_path,'fishdata'))\n",
    "    sys.stdout.write('\\r'+str(datetime.now().strftime(\"%H:%M:%S\"))+' '+p)\n",
    "    sys.stdout.flush()\n",
    "    time.sleep(5)"
   ]
  },
  {
   "cell_type": "code",
   "execution_count": 5,
   "metadata": {},
   "outputs": [],
   "source": [
    "for file in os.listdir('/hybedata/Images/Maeve/Macrophage/SL087_B_no_tracking_2021Apr26/fishdata'):\n",
    "    if 'flag' in file:\n",
    "        print(file)\n",
    "        os.remove(os.path.join('/hybedata/Images/Maeve/Macrophage/SL087_B_no_tracking_2021Apr26/fishdata',file))"
   ]
  }
 ],
 "metadata": {
  "kernelspec": {
   "display_name": "Python [conda env:pyspots-gpu]",
   "language": "python",
   "name": "conda-env-pyspots-gpu-py"
  },
  "language_info": {
   "codemirror_mode": {
    "name": "ipython",
    "version": 3
   },
   "file_extension": ".py",
   "mimetype": "text/x-python",
   "name": "python",
   "nbconvert_exporter": "python",
   "pygments_lexer": "ipython3",
   "version": "3.6.12"
  }
 },
 "nbformat": 4,
 "nbformat_minor": 4
}
