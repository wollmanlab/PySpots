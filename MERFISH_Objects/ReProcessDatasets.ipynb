{
 "cells": [
  {
   "cell_type": "code",
   "execution_count": 1,
   "id": "d4182de6-00a6-4f56-900d-3de1a3e297aa",
   "metadata": {},
   "outputs": [],
   "source": [
    "metadata_paths = [\n",
    "    '/bigstore/Images2022/gaby/TBI/sham1_3_2022Jan03/',\n",
    "    '/bigstore/Images2022/Gaby/TBI/Sham_2_4_2022Jan21/',\n",
    "    '/bigstore/Images2022/Gaby/TBI/Sham_3_4_2022Jan25/',\n",
    "    '/bigstore/Images2021/Zach/TBI/TBI-1-1_2021Oct20/',\n",
    "    '/bigstore/Images2022/Gaby/TBI/TBI_3_1_2022Jan15/',\n",
    "    '/bigstore/Images2022/gaby/TBI/TBI4_1_2022Jan11/']\n",
    "executable = '/home/zach/PythonRepos/PySpots/MERFISH_Objects/execute_class.py'\n",
    "cword_config = 'merfish_config_TBI_Hippocampus'"
   ]
  },
  {
   "cell_type": "code",
   "execution_count": null,
   "id": "12fe074b-91cb-46cc-9910-6b4ffc3f3631",
   "metadata": {},
   "outputs": [],
   "source": [
    "\"\"\" Clean Utilities \"\"\"\n",
    "import importlib\n",
    "config = importlib.import_module(cword_config)\n",
    "utilities_path = config.parameters['utilities_path']\n",
    "for metadata_path in metadata_paths:\n",
    "    dataset = [i for i in metadata_path.split('/') if not i==''][-1]\n",
    "    files = [i for i in os.listdir(utilities_path) if dataset in i]\n",
    "    for file in tqdm(files):\n",
    "        os.remove(os.path.join(fishdata_path,file)"
   ]
  },
  {
   "cell_type": "code",
   "execution_count": null,
   "id": "84a56b2f-586e-4178-879a-2d67f57d8ff0",
   "metadata": {
    "scrolled": true,
    "tags": []
   },
   "outputs": [],
   "source": [
    "\"\"\" Dataset Class \"\"\"\n",
    "Type = 'dataset'\n",
    "for metadata_path in metadata_paths:\n",
    "    dataset = [i for i in metadata_path.split('/') if not i==''][-1]\n",
    "    print(dataset)\n",
    "    !conda activate merfish_3.9; python -W ignore {executable} {metadata_path} {cword_config} {Type} -n 1"
   ]
  },
  {
   "cell_type": "code",
   "execution_count": null,
   "id": "9f328ce8-4ea5-48cd-986e-8169ab4d583d",
   "metadata": {},
   "outputs": [],
   "source": [
    "\"\"\" Remove Old beads \"\"\"\n",
    "import importlib\n",
    "config = importlib.import_module(cword_config)\n",
    "fishdata_name = config.parameters['fishdata']\n",
    "for metadata_path in metadata_paths:\n",
    "    fishdata_path = os.path.join(metadata_path,fishdata_name)\n",
    "    files = [i for i in os.listdir(fishdata_path) if 'beads' in i]\n",
    "    for file in tqdm(files):\n",
    "        os.remove(os.path.join(fishdata_path,file)"
   ]
  },
  {
   "cell_type": "code",
   "execution_count": null,
   "id": "1fbe02b1-dfd9-4bed-9110-70b6cd719e90",
   "metadata": {},
   "outputs": [],
   "source": [
    "\"\"\" Remove Old tforms \"\"\"\n",
    "import importlib\n",
    "config = importlib.import_module(cword_config)\n",
    "fishdata_name = config.parameters['fishdata']\n",
    "for metadata_path in metadata_paths:\n",
    "    fishdata_path = os.path.join(metadata_path,fishdata_name)\n",
    "    files = [i for i in os.listdir(fishdata_path) if 'tforms' in i]\n",
    "    for file in tqdm(files):\n",
    "        os.remove(os.path.join(fishdata_path,file)"
   ]
  },
  {
   "cell_type": "code",
   "execution_count": null,
   "id": "6741717c-48af-4ba1-b29c-49a6f87da360",
   "metadata": {},
   "outputs": [],
   "source": [
    "\"\"\" Registration Class \"\"\"\n",
    "Type = 'registration'\n",
    "for metadata_path in metadata_paths:\n",
    "    dataset = [i for i in metadata_path.split('/') if not i==''][-1]\n",
    "    print(dataset)\n",
    "    !conda activate merfish_3.9; python -W ignore {executable} {metadata_path} {cword_config} {Type} -n 30"
   ]
  },
  {
   "cell_type": "code",
   "execution_count": null,
   "id": "bd81ae6b-7f28-4ee1-a707-6efb079716b3",
   "metadata": {},
   "outputs": [],
   "source": [
    "\"\"\" Remove Old masks \"\"\"\n",
    "import importlib\n",
    "config = importlib.import_module(cword_config)\n",
    "fishdata_name = config.parameters['fishdata']\n",
    "for metadata_path in metadata_paths:\n",
    "    fishdata_path = os.path.join(metadata_path,fishdata_name)\n",
    "    files = [i for i in os.listdir(fishdata_path) if 'mask' in i]\n",
    "    for file in tqdm(files):\n",
    "        os.remove(os.path.join(fishdata_path,file)"
   ]
  },
  {
   "cell_type": "code",
   "execution_count": null,
   "id": "4fc2e25d-c01d-41d9-ba6f-1fb66ce92dc6",
   "metadata": {},
   "outputs": [],
   "source": [
    "\"\"\" Segmentation Class \"\"\"\n",
    "Type = 'segmentation'\n",
    "for metadata_path in metadata_paths:\n",
    "    dataset = [i for i in metadata_path.split('/') if not i==''][-1]\n",
    "    print(dataset)\n",
    "    !conda activate merfish_3.9; python -W ignore {executable} {metadata_path} {cword_config} {Type} -n 30"
   ]
  },
  {
   "cell_type": "code",
   "execution_count": null,
   "id": "b91167af-a623-4fb0-b9c3-8b504dd6b130",
   "metadata": {},
   "outputs": [],
   "source": [
    "\"\"\" Remove Old Images \"\"\"\n",
    "import importlib\n",
    "config = importlib.import_module(cword_config)\n",
    "fishdata_name = config.parameters['fishdata']\n",
    "for metadata_path in metadata_paths:\n",
    "    fishdata_path = os.path.join(metadata_path,fishdata_name)\n",
    "    files = [i for i in os.listdir(fishdata_path) if 'image' in i]\n",
    "    for file in tqdm(files):\n",
    "        os.remove(os.path.join(fishdata_path,file)"
   ]
  },
  {
   "cell_type": "code",
   "execution_count": null,
   "id": "e3bc40bb-1b71-438c-9813-fa12e4099802",
   "metadata": {
    "scrolled": true,
    "tags": []
   },
   "outputs": [],
   "source": [
    "\"\"\" Image Class \"\"\"\n",
    "Type = 'image'\n",
    "for metadata_path in metadata_paths:\n",
    "    dataset = [i for i in metadata_path.split('/') if not i==''][-1]\n",
    "    print(dataset)\n",
    "    !conda activate merfish_3.9; python -W ignore {executable} {metadata_path} {cword_config} {Type} -n 60"
   ]
  },
  {
   "cell_type": "code",
   "execution_count": 15,
   "id": "6ca1b47e-74eb-47e7-a59e-df6f10b9e70c",
   "metadata": {},
   "outputs": [
    {
     "name": "stdout",
     "output_type": "stream",
     "text": [
      "/bigstore/Images2022/gaby/TBI/sham1_3_2022Jan03/\n"
     ]
    },
    {
     "name": "stderr",
     "output_type": "stream",
     "text": [
      "100%|█████████████████████████████████████████████████████████████████████████████████████████████████████████████████████████████████████████████████████████████████████████████████████████████████| 94218/94218 [00:40<00:00, 2314.81it/s]\n"
     ]
    },
    {
     "name": "stdout",
     "output_type": "stream",
     "text": [
      "/bigstore/Images2022/Gaby/TBI/Sham_2_4_2022Jan21/\n"
     ]
    },
    {
     "name": "stderr",
     "output_type": "stream",
     "text": [
      "100%|█████████████████████████████████████████████████████████████████████████████████████████████████████████████████████████████████████████████████████████████████████████████████████████████████| 88597/88597 [00:42<00:00, 2078.87it/s]\n"
     ]
    },
    {
     "name": "stdout",
     "output_type": "stream",
     "text": [
      "/bigstore/Images2022/Gaby/TBI/Sham_3_4_2022Jan25/\n"
     ]
    },
    {
     "name": "stderr",
     "output_type": "stream",
     "text": [
      "100%|██████████████████████████████████████████████████████████████████████████████████████████████████████████████████████████████████████████████████████████████████████████████████████████████████| 59020/59020 [01:03<00:00, 933.35it/s]\n"
     ]
    },
    {
     "name": "stdout",
     "output_type": "stream",
     "text": [
      "/bigstore/Images2021/Zach/TBI/TBI-1-1_2021Oct20/\n"
     ]
    },
    {
     "name": "stderr",
     "output_type": "stream",
     "text": [
      "100%|██████████████████████████████████████████████████████████████████████████████████████████████████████████████████████████████████████████████████████████████████████████████████████████████████| 77522/77522 [01:26<00:00, 899.01it/s]\n"
     ]
    },
    {
     "name": "stdout",
     "output_type": "stream",
     "text": [
      "/bigstore/Images2022/Gaby/TBI/TBI_3_1_2022Jan15/\n"
     ]
    },
    {
     "name": "stderr",
     "output_type": "stream",
     "text": [
      "100%|█████████████████████████████████████████████████████████████████████████████████████████████████████████████████████████████████████████████████████████████████████████████████████████████████| 54812/54812 [00:22<00:00, 2392.64it/s]\n"
     ]
    },
    {
     "name": "stdout",
     "output_type": "stream",
     "text": [
      "/bigstore/Images2022/gaby/TBI/TBI4_1_2022Jan11/\n"
     ]
    },
    {
     "name": "stderr",
     "output_type": "stream",
     "text": [
      "100%|█████████████████████████████████████████████████████████████████████████████████████████████████████████████████████████████████████████████████████████████████████████████████████████████████| 82527/82527 [00:36<00:00, 2256.88it/s]\n"
     ]
    }
   ],
   "source": [
    "\"\"\" Remove Old Spotcalls \"\"\"\n",
    "import importlib\n",
    "config = importlib.import_module(cword_config)\n",
    "fishdata_name = config.parameters['fishdata']\n",
    "for metadata_path in metadata_paths:\n",
    "    print(metadata_path)\n",
    "    fishdata_path = os.path.join(metadata_path,fishdata_name)\n",
    "    files = [i for i in os.listdir(fishdata_path) if 'spotcalls' in i]\n",
    "    for file in tqdm(files):\n",
    "        os.remove(os.path.join(fishdata_path,file))"
   ]
  },
  {
   "cell_type": "code",
   "execution_count": null,
   "id": "01c433ab-8082-4562-aa04-cb3614633fcb",
   "metadata": {
    "scrolled": true,
    "tags": []
   },
   "outputs": [],
   "source": [
    "\"\"\" Classification Class \"\"\"\n",
    "Type = 'classification'\n",
    "for metadata_path in metadata_paths:\n",
    "    dataset = [i for i in metadata_path.split('/') if not i==''][-1]\n",
    "    print(dataset)\n",
    "    !conda activate merfish_3.9; python -W ignore {executable} {metadata_path} {cword_config} {Type} -n 30"
   ]
  },
  {
   "cell_type": "code",
   "execution_count": null,
   "id": "9168a724-4438-4c20-9630-04a38066894b",
   "metadata": {},
   "outputs": [],
   "source": [
    "\"\"\" Remove Old counts \"\"\"\n",
    "import importlib\n",
    "config = importlib.import_module(cword_config)\n",
    "fishdata_name = config.parameters['fishdata']\n",
    "for metadata_path in metadata_paths:\n",
    "    print(metadata_path)\n",
    "    fishdata_path = os.path.join(metadata_path,fishdata_name)\n",
    "    files = [i for i in os.listdir(fishdata_path) if 'counts' in i]\n",
    "    for file in tqdm(files):\n",
    "        os.remove(os.path.join(fishdata_path,file))"
   ]
  },
  {
   "cell_type": "code",
   "execution_count": null,
   "id": "4e0658e3-8200-49b6-8c0e-a16262c9d170",
   "metadata": {},
   "outputs": [],
   "source": [
    "\"\"\" Remove Old data \"\"\"\n",
    "import importlib\n",
    "config = importlib.import_module(cword_config)\n",
    "fishdata_name = config.parameters['fishdata']\n",
    "for metadata_path in metadata_paths:\n",
    "    print(metadata_path)\n",
    "    fishdata_path = os.path.join(metadata_path,fishdata_name)\n",
    "    files = [i for i in os.listdir(fishdata_path) if 'data' in i]\n",
    "    for file in tqdm(files):\n",
    "        os.remove(os.path.join(fishdata_path,file))"
   ]
  },
  {
   "cell_type": "code",
   "execution_count": null,
   "id": "f16d152b-9e80-477f-b102-f794b1d3113f",
   "metadata": {},
   "outputs": [],
   "source": [
    "\"\"\" Dataset Class \"\"\"\n",
    "Type = 'dataset'\n",
    "for metadata_path in metadata_paths:\n",
    "    dataset = [i for i in metadata_path.split('/') if not i==''][-1]\n",
    "    print(dataset)\n",
    "    !conda activate merfish_3.9; python -W ignore {executable} {metadata_path} {cword_config} {Type} -n 1"
   ]
  },
  {
   "cell_type": "code",
   "execution_count": null,
   "id": "a44f7fce-4c6b-4240-95a4-576df61f17ac",
   "metadata": {},
   "outputs": [],
   "source": []
  },
  {
   "cell_type": "code",
   "execution_count": null,
   "id": "5c67a9b0-b719-464f-a1ec-74cd5aeaa46d",
   "metadata": {},
   "outputs": [],
   "source": []
  },
  {
   "cell_type": "code",
   "execution_count": null,
   "id": "a7a3e508-13a8-4359-9649-be91f1bca324",
   "metadata": {},
   "outputs": [],
   "source": []
  },
  {
   "cell_type": "code",
   "execution_count": null,
   "id": "577cbecc-b47b-4665-a6ad-752c9c53f8ac",
   "metadata": {},
   "outputs": [],
   "source": []
  },
  {
   "cell_type": "code",
   "execution_count": null,
   "id": "72ca80f7-a36d-408d-858d-dd6b4dc5cc6c",
   "metadata": {},
   "outputs": [],
   "source": []
  },
  {
   "cell_type": "code",
   "execution_count": null,
   "id": "9a96de13-94ea-4a35-9ebb-4a7dd49301d1",
   "metadata": {
    "tags": []
   },
   "outputs": [],
   "source": [
    "\"\"\" Dataset Class \"\"\"\n",
    "from MERFISH_Objects.Dataset import *\n",
    "Type = 'dataset'\n",
    "for metadata_path in metadata_paths:\n",
    "    dataset = [i for i in metadata_path.split('/') if not i==''][-1]\n",
    "    self = Dataset_Class(metadata_path,dataset,cword_config,verbose=False)\n",
    "    self.check_imaging()\n",
    "    self.load_transcripts()\n",
    "    converter = {i:'True' for i in self.transcripts['cword_idx'].unique()}\n",
    "    blank_indices = np.array([i for i,gene in enumerate(self.merfish_config.aids) if 'lank' in gene])\n",
    "    for i in blank_indices:\n",
    "        converter[i] = 'False'\n",
    "    self.transcripts['X'] = [converter[i] for i in self.transcripts['cword_idx']]\n",
    "    backup = self.transcripts.copy()\n",
    "    print(dataset,self.transcripts.shape[0],'Before')\n",
    "    print(10*Counter(self.transcripts.X)['False']/self.transcripts.shape[0])\n",
    "    self.train_logistic()\n",
    "    self.apply_logistic()\n",
    "    print(dataset,self.transcripts.shape[0],'After')\n",
    "    print(10*Counter(self.transcripts.X)['False']/self.transcripts.shape[0])\n",
    "    break"
   ]
  },
  {
   "cell_type": "code",
   "execution_count": null,
   "id": "848ef452-00c3-4fff-9d47-5f3e83ea875d",
   "metadata": {},
   "outputs": [],
   "source": []
  },
  {
   "cell_type": "code",
   "execution_count": 2,
   "id": "83e7c148-35d6-4aa3-98bc-c91edc41e893",
   "metadata": {},
   "outputs": [],
   "source": [
    "from MERFISH_Objects.Dataset import *\n",
    "metadata_path = metadata_paths[3]\n",
    "dataset = [i for i in metadata_path.split('/') if not i==''][-1]\n",
    "print(dataset)\n",
    "self = Dataset_Class(metadata_path,dataset,cword_config,verbose=False)\n",
    "self.check_imaging()\n",
    "self.load_transcripts()\n",
    "converter = {i:'True' for i in self.transcripts['cword_idx'].unique()}\n",
    "blank_indices = np.array([i for i,gene in enumerate(self.merfish_config.aids) if 'lank' in gene])\n",
    "for i in blank_indices:\n",
    "    converter[i] = 'False'\n",
    "self.transcripts['X'] = [converter[i] for i in self.transcripts['cword_idx']]\n",
    "print(dataset,self.transcripts.shape[0],'Before')\n",
    "print(10*Counter(self.transcripts.X)['False']/self.transcripts.shape[0])\n",
    "self.transcripts"
   ]
  },
  {
   "cell_type": "code",
   "execution_count": null,
   "id": "4ac77752-8870-487f-b3ae-31d9b3fbd38c",
   "metadata": {},
   "outputs": [],
   "source": []
  },
  {
   "cell_type": "code",
   "execution_count": null,
   "id": "188c1515-b494-4f14-bfba-d08db559896e",
   "metadata": {},
   "outputs": [],
   "source": []
  },
  {
   "cell_type": "code",
   "execution_count": null,
   "id": "48b17899-44c8-4a56-ab50-235be3b689b8",
   "metadata": {},
   "outputs": [],
   "source": [
    "metadata_path = metadata_paths[3]\n",
    "dataset = [i for i in metadata_path.split('/') if not i==''][-1]\n",
    "print(dataset)\n",
    "self = Dataset_Class(metadata_path,dataset,cword_config,verbose=False)\n",
    "self.check_imaging()\n",
    "self.load_transcripts()\n",
    "converter = {i:'True' for i in self.transcripts['cword_idx'].unique()}\n",
    "blank_indices = np.array([i for i,gene in enumerate(self.merfish_config.aids) if 'lank' in gene])\n",
    "for i in blank_indices:\n",
    "    converter[i] = 'False'\n",
    "self.transcripts['X'] = [converter[i] for i in self.transcripts['cword_idx']]\n",
    "print(dataset,self.transcripts.shape[0],'Before')\n",
    "print(10*Counter(self.transcripts.X)['False']/self.transcripts.shape[0])\n",
    "self.train_logistic()\n",
    "self.apply_logistic()\n",
    "print(dataset,self.transcripts.shape[0],'After')\n",
    "print(10*Counter(self.transcripts.X)['False']/self.transcripts.shape[0])"
   ]
  }
 ],
 "metadata": {
  "kernelspec": {
   "display_name": "Python [conda env:merfish_3.9]",
   "language": "python",
   "name": "conda-env-merfish_3.9-py"
  },
  "language_info": {
   "codemirror_mode": {
    "name": "ipython",
    "version": 3
   },
   "file_extension": ".py",
   "mimetype": "text/x-python",
   "name": "python",
   "nbconvert_exporter": "python",
   "pygments_lexer": "ipython3",
   "version": "3.9.7"
  }
 },
 "nbformat": 4,
 "nbformat_minor": 5
}
