{
 "cells": [
  {
   "cell_type": "code",
   "execution_count": 1,
   "id": "36d92906-4c3c-407d-b0ed-d520b0f5d3fc",
   "metadata": {},
   "outputs": [
    {
     "name": "stdout",
     "output_type": "stream",
     "text": [
      " \n",
      "conda activate merfish_3.9\n",
      "python -W ignore /home/zach/PythonRepos/PySpots/MERFISH_Objects/execute_class.py /bigstore/Images2022/Gaby/Macrophage/SL091_BMDM_2022Nov04/ merfish_config_BMDM_Polarization dataset -n 1\n",
      "conda deactivate \n",
      " \n",
      " \n",
      "conda activate merfish_3.9\n",
      "python -W ignore /home/zach/PythonRepos/PySpots/MERFISH_Objects/execute_class.py /bigstore/Images2022/Gaby/Macrophage/SL091_BMDM_2022Nov04/ merfish_config_BMDM_Polarization registration -n 20\n",
      "conda deactivate \n",
      " \n",
      " \n",
      "conda activate merfish_3.9\n",
      "python -W ignore /home/zach/PythonRepos/PySpots/MERFISH_Objects/execute_class.py /bigstore/Images2022/Gaby/Macrophage/SL091_BMDM_2022Nov04/ merfish_config_BMDM_Polarization image -n 30\n",
      "conda deactivate \n",
      " \n",
      " \n",
      "conda activate merfish_3.9\n",
      "python -W ignore /home/zach/PythonRepos/PySpots/MERFISH_Objects/execute_class.py /bigstore/Images2022/Gaby/Macrophage/SL091_BMDM_2022Nov04/ merfish_config_BMDM_Polarization segmentation -n 1\n",
      "conda deactivate \n",
      " \n",
      " \n",
      "conda activate merfish_3.9\n",
      "python -W ignore /home/zach/PythonRepos/PySpots/MERFISH_Objects/execute_class.py /bigstore/Images2022/Gaby/Macrophage/SL091_BMDM_2022Nov04/ merfish_config_BMDM_Polarization classification -n 10\n",
      "conda deactivate \n",
      " \n",
      " \n",
      "conda activate merfish_3.9\n",
      "python -W ignore /home/zach/PythonRepos/PySpots/MERFISH_Objects/execute_class.py /bigstore/Images2022/Gaby/Macrophage/SL091_BMDM_2022Nov04/ merfish_config_BMDM_Polarization dataset -n 1\n",
      "conda deactivate \n",
      " \n"
     ]
    }
   ],
   "source": [
    "metadata_paths = ['/bigstore/Images2022/Gaby/Macrophage/SL091_BMDM_2022Nov04/']\n",
    "cword_config = 'merfish_config_BMDM_Polarization'\n",
    "env = 'merfish_3.9'\n",
    "executable = '/home/zach/PythonRepos/PySpots/MERFISH_Objects/execute_class.py'\n",
    "order = ['dataset','registration','image','segmentation','classification','dataset']\n",
    "ncpu_dict = {'dataset':'1','registration':'20','image':'30','segmentation':'1','classification':'10','dataset':'1'}\n",
    "for dtype in order:\n",
    "    for metadata_path in metadata_paths:\n",
    "        print(' ')\n",
    "        print('conda activate '+env)\n",
    "        print('python -W ignore '+executable+' '+metadata_path+' '+cword_config+' '+dtype+' -n '+ncpu_dict[dtype])\n",
    "        print('conda deactivate ')\n",
    "        print(' ')"
   ]
  }
 ],
 "metadata": {
  "kernelspec": {
   "display_name": "Python [conda env:merfish_3.9]",
   "language": "python",
   "name": "conda-env-merfish_3.9-py"
  },
  "language_info": {
   "codemirror_mode": {
    "name": "ipython",
    "version": 3
   },
   "file_extension": ".py",
   "mimetype": "text/x-python",
   "name": "python",
   "nbconvert_exporter": "python",
   "pygments_lexer": "ipython3",
   "version": "3.9.7"
  }
 },
 "nbformat": 4,
 "nbformat_minor": 5
}
